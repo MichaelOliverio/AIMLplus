{
 "cells": [
  {
   "cell_type": "code",
   "execution_count": 24,
   "metadata": {},
   "outputs": [],
   "source": [
    "import pandas as pd\n",
    "from sklearn.model_selection import train_test_split\n",
    "import json"
   ]
  },
  {
   "cell_type": "code",
   "execution_count": null,
   "metadata": {},
   "outputs": [
    {
     "data": {
      "text/html": [
       "<div>\n",
       "<style scoped>\n",
       "    .dataframe tbody tr th:only-of-type {\n",
       "        vertical-align: middle;\n",
       "    }\n",
       "\n",
       "    .dataframe tbody tr th {\n",
       "        vertical-align: top;\n",
       "    }\n",
       "\n",
       "    .dataframe thead th {\n",
       "        text-align: right;\n",
       "    }\n",
       "</style>\n",
       "<table border=\"1\" class=\"dataframe\">\n",
       "  <thead>\n",
       "    <tr style=\"text-align: right;\">\n",
       "      <th></th>\n",
       "      <th>id</th>\n",
       "      <th>text</th>\n",
       "      <th>das_gold</th>\n",
       "      <th>intent</th>\n",
       "      <th>argument</th>\n",
       "      <th>slot_names</th>\n",
       "      <th>slot_values</th>\n",
       "    </tr>\n",
       "  </thead>\n",
       "  <tbody>\n",
       "    <tr>\n",
       "      <th>0</th>\n",
       "      <td>ctyHWUgv9B_kHA6DNcrgMxadmJZJ1sHa-turn1</td>\n",
       "      <td>hi</td>\n",
       "      <td>DS:opening; SOM:initGreeting</td>\n",
       "      <td>Nan</td>\n",
       "      <td>Nan</td>\n",
       "      <td>[]</td>\n",
       "      <td>[]</td>\n",
       "    </tr>\n",
       "    <tr>\n",
       "      <th>1</th>\n",
       "      <td>ctyHWUgv9B_kHA6DNcrgMxadmJZJ1sHa-turn2</td>\n",
       "      <td>I don't know, try asking something like, \"What...</td>\n",
       "      <td>AutoF:autoNegative; DS:suggest</td>\n",
       "      <td>Nan</td>\n",
       "      <td>Nan</td>\n",
       "      <td>[]</td>\n",
       "      <td>[]</td>\n",
       "    </tr>\n",
       "    <tr>\n",
       "      <th>2</th>\n",
       "      <td>ctyHWUgv9B_kHA6DNcrgMxadmJZJ1sHa-turn3</td>\n",
       "      <td>describe the automaton</td>\n",
       "      <td>Ta:request</td>\n",
       "      <td>fsa-practical</td>\n",
       "      <td>Automata</td>\n",
       "      <td>[]</td>\n",
       "      <td>[]</td>\n",
       "    </tr>\n",
       "    <tr>\n",
       "      <th>3</th>\n",
       "      <td>ctyHWUgv9B_kHA6DNcrgMxadmJZJ1sHa-turn4</td>\n",
       "      <td>It is an automaton which accepts zero or more ...</td>\n",
       "      <td>Ta:answer</td>\n",
       "      <td>fsa-practical</td>\n",
       "      <td>Automata</td>\n",
       "      <td>['alphabet','numberOfStates','states','initial...</td>\n",
       "      <td>[['0','1'],'3',['q0','q1','q2'],'q0',['q0'],[(...</td>\n",
       "    </tr>\n",
       "  </tbody>\n",
       "</table>\n",
       "</div>"
      ],
      "text/plain": [
       "                                       id  \\\n",
       "0  ctyHWUgv9B_kHA6DNcrgMxadmJZJ1sHa-turn1   \n",
       "1  ctyHWUgv9B_kHA6DNcrgMxadmJZJ1sHa-turn2   \n",
       "2  ctyHWUgv9B_kHA6DNcrgMxadmJZJ1sHa-turn3   \n",
       "3  ctyHWUgv9B_kHA6DNcrgMxadmJZJ1sHa-turn4   \n",
       "\n",
       "                                                text  \\\n",
       "0                                                hi    \n",
       "1  I don't know, try asking something like, \"What...   \n",
       "2                            describe the automaton    \n",
       "3  It is an automaton which accepts zero or more ...   \n",
       "\n",
       "                         das_gold         intent  argument  \\\n",
       "0    DS:opening; SOM:initGreeting            Nan       Nan   \n",
       "1  AutoF:autoNegative; DS:suggest            Nan       Nan   \n",
       "2                      Ta:request  fsa-practical  Automata   \n",
       "3                       Ta:answer  fsa-practical  Automata   \n",
       "\n",
       "                                          slot_names  \\\n",
       "0                                                 []   \n",
       "1                                                 []   \n",
       "2                                                 []   \n",
       "3  ['alphabet','numberOfStates','states','initial...   \n",
       "\n",
       "                                         slot_values  \n",
       "0                                                 []  \n",
       "1                                                 []  \n",
       "2                                                 []  \n",
       "3  [['0','1'],'3',['q0','q1','q2'],'q0',['q0'],[(...  "
      ]
     },
     "execution_count": 25,
     "metadata": {},
     "output_type": "execute_result"
    }
   ],
   "source": [
    "# open file\n",
    "df = pd.read_excel('..\\\\corpus.xlsx', sheet_name='annotations')\n",
    "df.columns = [c.lower() for c in df.columns]\n",
    "df['id'] = df['code id'] + \"-turn\" + df['turn'].astype(str)\n",
    "df = df[['id', 'text', 'das_gold', 'intent', 'argument', 'slot_names', 'slot_values']]\n",
    "df.head(4)"
   ]
  },
  {
   "cell_type": "markdown",
   "metadata": {},
   "source": [
    "## Creo Train, Dev e Test set"
   ]
  },
  {
   "cell_type": "code",
   "execution_count": 26,
   "metadata": {},
   "outputs": [],
   "source": [
    "# rename text as input\n",
    "df = df.rename(columns={'text': 'input'})"
   ]
  },
  {
   "cell_type": "code",
   "execution_count": 27,
   "metadata": {},
   "outputs": [],
   "source": [
    "df['output'] = df.apply(lambda row: json.dumps({\n",
    "    'da': row['das_gold'],\n",
    "    'et': row['intent'],\n",
    "    'ar': row['argument'],\n",
    "    'sn': row['slot_names'],\n",
    "    'sv': row['slot_values']\n",
    "}, ensure_ascii=False), axis=1)"
   ]
  },
  {
   "cell_type": "code",
   "execution_count": 28,
   "metadata": {},
   "outputs": [
    {
     "data": {
      "text/html": [
       "<div>\n",
       "<style scoped>\n",
       "    .dataframe tbody tr th:only-of-type {\n",
       "        vertical-align: middle;\n",
       "    }\n",
       "\n",
       "    .dataframe tbody tr th {\n",
       "        vertical-align: top;\n",
       "    }\n",
       "\n",
       "    .dataframe thead th {\n",
       "        text-align: right;\n",
       "    }\n",
       "</style>\n",
       "<table border=\"1\" class=\"dataframe\">\n",
       "  <thead>\n",
       "    <tr style=\"text-align: right;\">\n",
       "      <th></th>\n",
       "      <th>id</th>\n",
       "      <th>input</th>\n",
       "      <th>output</th>\n",
       "    </tr>\n",
       "  </thead>\n",
       "  <tbody>\n",
       "    <tr>\n",
       "      <th>0</th>\n",
       "      <td>ctyHWUgv9B_kHA6DNcrgMxadmJZJ1sHa-turn1</td>\n",
       "      <td>hi</td>\n",
       "      <td>{\"da\": \"DS:opening; SOM:initGreeting\", \"et\": \"...</td>\n",
       "    </tr>\n",
       "  </tbody>\n",
       "</table>\n",
       "</div>"
      ],
      "text/plain": [
       "                                       id input  \\\n",
       "0  ctyHWUgv9B_kHA6DNcrgMxadmJZJ1sHa-turn1   hi    \n",
       "\n",
       "                                              output  \n",
       "0  {\"da\": \"DS:opening; SOM:initGreeting\", \"et\": \"...  "
      ]
     },
     "execution_count": 28,
     "metadata": {},
     "output_type": "execute_result"
    }
   ],
   "source": [
    "# mantain only id, input and output\n",
    "df = df[['id', 'input', 'output']]\n",
    "df.head(1)"
   ]
  },
  {
   "cell_type": "code",
   "execution_count": 29,
   "metadata": {},
   "outputs": [
    {
     "data": {
      "text/plain": [
       "517"
      ]
     },
     "execution_count": 29,
     "metadata": {},
     "output_type": "execute_result"
    }
   ],
   "source": [
    "#foreach input in df mantain only the first\n",
    "df = df.drop_duplicates(subset='input', keep='first')\n",
    "len(df)"
   ]
  },
  {
   "cell_type": "code",
   "execution_count": 30,
   "metadata": {},
   "outputs": [
    {
     "name": "stdout",
     "output_type": "stream",
     "text": [
      "Training set: 413 record\n",
      "Dev set: 52 record\n",
      "Test set: 52 record\n"
     ]
    }
   ],
   "source": [
    "# Primo split: 80% training e 20% rimanente\n",
    "train_df, dev_test_df = train_test_split(df, test_size=0.2, random_state=42)\n",
    "\n",
    "# Secondo split: 50% dev e 50% test\n",
    "dev_df, test_df = train_test_split(dev_test_df, test_size=0.5, random_state=42)\n",
    "\n",
    "# Salva i set in file CSV senza apici extra\n",
    "train_df.to_csv('train.csv', index=False, quoting=0)  # quoting=0 evita di mettere apici extra\n",
    "dev_df.to_csv('dev.csv', index=False, quoting=0)\n",
    "test_df.to_csv('test.csv', index=False, quoting=0)\n",
    "\n",
    "print(f\"Training set: {len(train_df)} record\")\n",
    "print(f\"Dev set: {len(dev_df)} record\")\n",
    "print(f\"Test set: {len(test_df)} record\")"
   ]
  }
 ],
 "metadata": {
  "kernelspec": {
   "display_name": "Python 3",
   "language": "python",
   "name": "python3"
  },
  "language_info": {
   "codemirror_mode": {
    "name": "ipython",
    "version": 3
   },
   "file_extension": ".py",
   "mimetype": "text/x-python",
   "name": "python",
   "nbconvert_exporter": "python",
   "pygments_lexer": "ipython3",
   "version": "3.11.0"
  }
 },
 "nbformat": 4,
 "nbformat_minor": 2
}
